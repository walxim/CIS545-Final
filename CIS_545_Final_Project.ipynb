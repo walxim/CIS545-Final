{
  "nbformat": 4,
  "nbformat_minor": 0,
  "metadata": {
    "colab": {
      "name": "CIS-545 Final Project.ipynb",
      "provenance": []
    },
    "kernelspec": {
      "name": "python3",
      "display_name": "Python 3"
    },
    "language_info": {
      "name": "python"
    }
  },
  "cells": [
    {
      "cell_type": "markdown",
      "metadata": {
        "id": "zQx11SZmEpTv"
      },
      "source": [
        "#Introduction\n",
        "Welcome to the final project by Michael (Shuangyu) Han, Mars (Runzhi) Gu, and Steven Walxim\n",
        "\n",
        "In this project, we will attempt to predict global temperature change based on the population, GDP, carbon emission, and deforestation of different geographical locations\n",
        "\n",
        "We will achieve this goal by extracting data from difference reliable sources, cleaning, visualizing, and modeling the data"
      ]
    },
    {
      "cell_type": "markdown",
      "metadata": {
        "id": "gnRs4jx4HVjk"
      },
      "source": [
        "#Cleaning"
      ]
    },
    {
      "cell_type": "code",
      "metadata": {
        "colab": {
          "base_uri": "https://localhost:8080/"
        },
        "id": "xXbPH_5hI5kr",
        "outputId": "ffddd340-6f52-4557-c02d-643f477c4f16"
      },
      "source": [
        "!pip install googledrivedownloader"
      ],
      "execution_count": null,
      "outputs": [
        {
          "output_type": "stream",
          "name": "stdout",
          "text": [
            "Requirement already satisfied: googledrivedownloader in /usr/local/lib/python3.7/dist-packages (0.4)\n"
          ]
        }
      ]
    },
    {
      "cell_type": "markdown",
      "metadata": {
        "id": "UNG1lp7Tlh0d"
      },
      "source": [
        "Import Data Files from Google Drive"
      ]
    },
    {
      "cell_type": "code",
      "metadata": {
        "id": "D7nL6_o9zuVe",
        "colab": {
          "base_uri": "https://localhost:8080/"
        },
        "outputId": "3f84707d-18b8-43cd-9071-188d691cadf6"
      },
      "source": [
        "#global temperature\n",
        "!gdown 1a7NAbGr7aTxvUaB0pZIM58lpxOpim0OQ --id\n",
        "#by City\n",
        "!gdown 1CFr_HZd_dQjvxSQR1buElJrW8ZUJrXF2 --id\n",
        "#by Major City\n",
        "!gdown 1JhZwWcdOI4D4Ta-cDw26p5hhQ6uEWFP2 --id\n",
        "#by State\n",
        "!gdown 1ExxCrfEhLIgh8tTkswcoQKRrNjGdT-Mo --id\n",
        "#by Country\n",
        "!gdown 1rPogwew95J2oL6kYetdEZeNbSFzmQEev --id"
      ],
      "execution_count": null,
      "outputs": [
        {
          "output_type": "stream",
          "name": "stdout",
          "text": [
            "Downloading...\n",
            "From: https://drive.google.com/uc?id=1a7NAbGr7aTxvUaB0pZIM58lpxOpim0OQ\n",
            "To: /content/GlobalTemperatures.csv\n",
            "100% 206k/206k [00:00<00:00, 62.4MB/s]\n",
            "Downloading...\n",
            "From: https://drive.google.com/uc?id=1CFr_HZd_dQjvxSQR1buElJrW8ZUJrXF2\n",
            "To: /content/GlobalLandTemperaturesByCity.csv\n",
            "100% 533M/533M [00:03<00:00, 176MB/s]\n",
            "Downloading...\n",
            "From: https://drive.google.com/uc?id=1JhZwWcdOI4D4Ta-cDw26p5hhQ6uEWFP2\n",
            "To: /content/GlobalLandTemperaturesByMajorCity.csv\n",
            "100% 14.1M/14.1M [00:00<00:00, 124MB/s]\n",
            "Downloading...\n",
            "From: https://drive.google.com/uc?id=1ExxCrfEhLIgh8tTkswcoQKRrNjGdT-Mo\n",
            "To: /content/GlobalLandTemperaturesByState.csv\n",
            "100% 30.8M/30.8M [00:00<00:00, 116MB/s]\n",
            "Downloading...\n",
            "From: https://drive.google.com/uc?id=1rPogwew95J2oL6kYetdEZeNbSFzmQEev\n",
            "To: /content/GlobalLandTemperaturesByCountry.csv\n",
            "100% 22.7M/22.7M [00:00<00:00, 182MB/s]\n"
          ]
        }
      ]
    },
    {
      "cell_type": "code",
      "metadata": {
        "colab": {
          "base_uri": "https://localhost:8080/"
        },
        "id": "Te_ZFS65mboz",
        "outputId": "2be18847-5ee3-45dd-9ee0-c63e6a277832"
      },
      "source": [
        "#GDP\n",
        "!gdown 1q3xv60tw0Vb3E_KlqAcVV_ef_g7ZonE7 --id\n",
        "#Population\n",
        "!gdown 1mcOZ4o3F0Mt44NOMMSNyhnu6isdd0kgk --id\n",
        "#Deforestation\n",
        "!gdown 1QHSh5V34l9khRJixJ2jjLZzJnc_bj_IW --id\n",
        "#Carbon Emission\n",
        "!gdown 1prQnwFxAAq27m9HxiLZdaQLFeQyGo_qI --id"
      ],
      "execution_count": null,
      "outputs": [
        {
          "output_type": "stream",
          "name": "stdout",
          "text": [
            "Downloading...\n",
            "From: https://drive.google.com/uc?id=1q3xv60tw0Vb3E_KlqAcVV_ef_g7ZonE7\n",
            "To: /content/GDP.csv\n",
            "100% 262k/262k [00:00<00:00, 76.4MB/s]\n",
            "Downloading...\n",
            "From: https://drive.google.com/uc?id=1mcOZ4o3F0Mt44NOMMSNyhnu6isdd0kgk\n",
            "To: /content/Population.csv\n",
            "100% 182k/182k [00:00<00:00, 67.8MB/s]\n",
            "Downloading...\n",
            "From: https://drive.google.com/uc?id=1QHSh5V34l9khRJixJ2jjLZzJnc_bj_IW\n",
            "To: /content/Deforestation.csv\n",
            "100% 12.3k/12.3k [00:00<00:00, 20.5MB/s]\n",
            "Downloading...\n",
            "From: https://drive.google.com/uc?id=1prQnwFxAAq27m9HxiLZdaQLFeQyGo_qI\n",
            "To: /content/CO2.csv\n",
            "100% 5.17M/5.17M [00:00<00:00, 80.3MB/s]\n"
          ]
        }
      ]
    },
    {
      "cell_type": "markdown",
      "metadata": {
        "id": "sGXDP-ErXtwA"
      },
      "source": [
        "Import Tools to Use in Project"
      ]
    },
    {
      "cell_type": "code",
      "metadata": {
        "id": "DK58mvG4Xs-z"
      },
      "source": [
        "import pandas as pd"
      ],
      "execution_count": null,
      "outputs": []
    },
    {
      "cell_type": "markdown",
      "metadata": {
        "id": "PKl2Rx8wYGXr"
      },
      "source": [
        "Importing Global Temperature CSV Files into Pandas"
      ]
    },
    {
      "cell_type": "code",
      "metadata": {
        "id": "WFnYKo1jXlSQ"
      },
      "source": [
        "global_temp = pd.read_csv('/content/GlobalTemperatures.csv')\n",
        "global_temp_state = pd.read_csv('/content/GlobalLandTemperaturesByState.csv')\n",
        "global_temp_Mcity = pd.read_csv('/content/GlobalLandTemperaturesByMajorCity.csv')\n",
        "global_temp_country = pd.read_csv('/content/GlobalLandTemperaturesByCountry.csv')\n",
        "global_temp_city = pd.read_csv('/content/GlobalLandTemperaturesByCity.csv')"
      ],
      "execution_count": null,
      "outputs": []
    },
    {
      "cell_type": "code",
      "metadata": {
        "id": "K3Tg1uNcuSKQ"
      },
      "source": [
        "gdp = pd.read_csv('/content/GDP.csv', skiprows=4)\n",
        "population = pd.read_csv('/content/Population.csv', skiprows=4)\n",
        "deforest = pd.read_csv('/content/Deforestation.csv')\n",
        "co2 = pd.read_csv('/content/CO2.csv')"
      ],
      "execution_count": null,
      "outputs": []
    },
    {
      "cell_type": "code",
      "metadata": {
        "id": "0NuryMVDkh_H"
      },
      "source": [
        "data = global_temp_country"
      ],
      "execution_count": null,
      "outputs": []
    },
    {
      "cell_type": "code",
      "metadata": {
        "colab": {
          "base_uri": "https://localhost:8080/",
          "height": 300
        },
        "id": "QvE1Tsdng9ar",
        "outputId": "756ab6fd-2677-477b-d906-579e8e8336f7"
      },
      "source": [
        "global_temp_country.describe()"
      ],
      "execution_count": null,
      "outputs": [
        {
          "output_type": "execute_result",
          "data": {
            "text/html": [
              "<div>\n",
              "<style scoped>\n",
              "    .dataframe tbody tr th:only-of-type {\n",
              "        vertical-align: middle;\n",
              "    }\n",
              "\n",
              "    .dataframe tbody tr th {\n",
              "        vertical-align: top;\n",
              "    }\n",
              "\n",
              "    .dataframe thead th {\n",
              "        text-align: right;\n",
              "    }\n",
              "</style>\n",
              "<table border=\"1\" class=\"dataframe\">\n",
              "  <thead>\n",
              "    <tr style=\"text-align: right;\">\n",
              "      <th></th>\n",
              "      <th>AverageTemperature</th>\n",
              "      <th>AverageTemperatureUncertainty</th>\n",
              "    </tr>\n",
              "  </thead>\n",
              "  <tbody>\n",
              "    <tr>\n",
              "      <th>count</th>\n",
              "      <td>544811.000000</td>\n",
              "      <td>545550.000000</td>\n",
              "    </tr>\n",
              "    <tr>\n",
              "      <th>mean</th>\n",
              "      <td>17.193354</td>\n",
              "      <td>1.019057</td>\n",
              "    </tr>\n",
              "    <tr>\n",
              "      <th>std</th>\n",
              "      <td>10.953966</td>\n",
              "      <td>1.201930</td>\n",
              "    </tr>\n",
              "    <tr>\n",
              "      <th>min</th>\n",
              "      <td>-37.658000</td>\n",
              "      <td>0.052000</td>\n",
              "    </tr>\n",
              "    <tr>\n",
              "      <th>25%</th>\n",
              "      <td>10.025000</td>\n",
              "      <td>0.323000</td>\n",
              "    </tr>\n",
              "    <tr>\n",
              "      <th>50%</th>\n",
              "      <td>20.901000</td>\n",
              "      <td>0.571000</td>\n",
              "    </tr>\n",
              "    <tr>\n",
              "      <th>75%</th>\n",
              "      <td>25.814000</td>\n",
              "      <td>1.206000</td>\n",
              "    </tr>\n",
              "    <tr>\n",
              "      <th>max</th>\n",
              "      <td>38.842000</td>\n",
              "      <td>15.003000</td>\n",
              "    </tr>\n",
              "  </tbody>\n",
              "</table>\n",
              "</div>"
            ],
            "text/plain": [
              "       AverageTemperature  AverageTemperatureUncertainty\n",
              "count       544811.000000                  545550.000000\n",
              "mean            17.193354                       1.019057\n",
              "std             10.953966                       1.201930\n",
              "min            -37.658000                       0.052000\n",
              "25%             10.025000                       0.323000\n",
              "50%             20.901000                       0.571000\n",
              "75%             25.814000                       1.206000\n",
              "max             38.842000                      15.003000"
            ]
          },
          "metadata": {},
          "execution_count": 77
        }
      ]
    },
    {
      "cell_type": "code",
      "metadata": {
        "colab": {
          "base_uri": "https://localhost:8080/",
          "height": 424
        },
        "id": "u-c2Ns7qhpnV",
        "outputId": "0b41b4d0-38a5-4f17-a59b-72fcd43dbeb8"
      },
      "source": [
        "global_temp_country"
      ],
      "execution_count": null,
      "outputs": [
        {
          "output_type": "execute_result",
          "data": {
            "text/html": [
              "<div>\n",
              "<style scoped>\n",
              "    .dataframe tbody tr th:only-of-type {\n",
              "        vertical-align: middle;\n",
              "    }\n",
              "\n",
              "    .dataframe tbody tr th {\n",
              "        vertical-align: top;\n",
              "    }\n",
              "\n",
              "    .dataframe thead th {\n",
              "        text-align: right;\n",
              "    }\n",
              "</style>\n",
              "<table border=\"1\" class=\"dataframe\">\n",
              "  <thead>\n",
              "    <tr style=\"text-align: right;\">\n",
              "      <th></th>\n",
              "      <th>year</th>\n",
              "      <th>AverageTemperature</th>\n",
              "      <th>AverageTemperatureUncertainty</th>\n",
              "      <th>Country</th>\n",
              "      <th>month</th>\n",
              "    </tr>\n",
              "  </thead>\n",
              "  <tbody>\n",
              "    <tr>\n",
              "      <th>0</th>\n",
              "      <td>1743</td>\n",
              "      <td>4.384</td>\n",
              "      <td>2.294</td>\n",
              "      <td>Åland</td>\n",
              "      <td>1743-11-01</td>\n",
              "    </tr>\n",
              "    <tr>\n",
              "      <th>1</th>\n",
              "      <td>1743</td>\n",
              "      <td>NaN</td>\n",
              "      <td>NaN</td>\n",
              "      <td>Åland</td>\n",
              "      <td>1743-12-01</td>\n",
              "    </tr>\n",
              "    <tr>\n",
              "      <th>2</th>\n",
              "      <td>1744</td>\n",
              "      <td>NaN</td>\n",
              "      <td>NaN</td>\n",
              "      <td>Åland</td>\n",
              "      <td>1744-01-01</td>\n",
              "    </tr>\n",
              "    <tr>\n",
              "      <th>3</th>\n",
              "      <td>1744</td>\n",
              "      <td>NaN</td>\n",
              "      <td>NaN</td>\n",
              "      <td>Åland</td>\n",
              "      <td>1744-02-01</td>\n",
              "    </tr>\n",
              "    <tr>\n",
              "      <th>4</th>\n",
              "      <td>1744</td>\n",
              "      <td>NaN</td>\n",
              "      <td>NaN</td>\n",
              "      <td>Åland</td>\n",
              "      <td>1744-03-01</td>\n",
              "    </tr>\n",
              "    <tr>\n",
              "      <th>...</th>\n",
              "      <td>...</td>\n",
              "      <td>...</td>\n",
              "      <td>...</td>\n",
              "      <td>...</td>\n",
              "      <td>...</td>\n",
              "    </tr>\n",
              "    <tr>\n",
              "      <th>577457</th>\n",
              "      <td>2013</td>\n",
              "      <td>19.059</td>\n",
              "      <td>1.022</td>\n",
              "      <td>Zimbabwe</td>\n",
              "      <td>2013-05-01</td>\n",
              "    </tr>\n",
              "    <tr>\n",
              "      <th>577458</th>\n",
              "      <td>2013</td>\n",
              "      <td>17.613</td>\n",
              "      <td>0.473</td>\n",
              "      <td>Zimbabwe</td>\n",
              "      <td>2013-06-01</td>\n",
              "    </tr>\n",
              "    <tr>\n",
              "      <th>577459</th>\n",
              "      <td>2013</td>\n",
              "      <td>17.000</td>\n",
              "      <td>0.453</td>\n",
              "      <td>Zimbabwe</td>\n",
              "      <td>2013-07-01</td>\n",
              "    </tr>\n",
              "    <tr>\n",
              "      <th>577460</th>\n",
              "      <td>2013</td>\n",
              "      <td>19.759</td>\n",
              "      <td>0.717</td>\n",
              "      <td>Zimbabwe</td>\n",
              "      <td>2013-08-01</td>\n",
              "    </tr>\n",
              "    <tr>\n",
              "      <th>577461</th>\n",
              "      <td>2013</td>\n",
              "      <td>NaN</td>\n",
              "      <td>NaN</td>\n",
              "      <td>Zimbabwe</td>\n",
              "      <td>2013-09-01</td>\n",
              "    </tr>\n",
              "  </tbody>\n",
              "</table>\n",
              "<p>577462 rows × 5 columns</p>\n",
              "</div>"
            ],
            "text/plain": [
              "        year  AverageTemperature  ...   Country       month\n",
              "0       1743               4.384  ...     Åland  1743-11-01\n",
              "1       1743                 NaN  ...     Åland  1743-12-01\n",
              "2       1744                 NaN  ...     Åland  1744-01-01\n",
              "3       1744                 NaN  ...     Åland  1744-02-01\n",
              "4       1744                 NaN  ...     Åland  1744-03-01\n",
              "...      ...                 ...  ...       ...         ...\n",
              "577457  2013              19.059  ...  Zimbabwe  2013-05-01\n",
              "577458  2013              17.613  ...  Zimbabwe  2013-06-01\n",
              "577459  2013              17.000  ...  Zimbabwe  2013-07-01\n",
              "577460  2013              19.759  ...  Zimbabwe  2013-08-01\n",
              "577461  2013                 NaN  ...  Zimbabwe  2013-09-01\n",
              "\n",
              "[577462 rows x 5 columns]"
            ]
          },
          "metadata": {},
          "execution_count": 82
        }
      ]
    },
    {
      "cell_type": "code",
      "metadata": {
        "id": "7yNw1nucipsa"
      },
      "source": [
        "data['month'] = data['dt']\n",
        "data.dt = data.dt.apply(lambda x: x[0:4])"
      ],
      "execution_count": null,
      "outputs": []
    },
    {
      "cell_type": "code",
      "metadata": {
        "id": "3rTUyt7yjVn9"
      },
      "source": [
        "data.columns = ['year', 'AverageTemperature', 'AverageTemperatureUncertainty', 'Country', 'month']"
      ],
      "execution_count": null,
      "outputs": []
    },
    {
      "cell_type": "code",
      "metadata": {
        "colab": {
          "base_uri": "https://localhost:8080/",
          "height": 424
        },
        "id": "tAezurOrlFGp",
        "outputId": "0e838645-e387-4c2e-997e-dea2ef728161"
      },
      "source": [
        "data"
      ],
      "execution_count": null,
      "outputs": [
        {
          "output_type": "execute_result",
          "data": {
            "text/html": [
              "<div>\n",
              "<style scoped>\n",
              "    .dataframe tbody tr th:only-of-type {\n",
              "        vertical-align: middle;\n",
              "    }\n",
              "\n",
              "    .dataframe tbody tr th {\n",
              "        vertical-align: top;\n",
              "    }\n",
              "\n",
              "    .dataframe thead th {\n",
              "        text-align: right;\n",
              "    }\n",
              "</style>\n",
              "<table border=\"1\" class=\"dataframe\">\n",
              "  <thead>\n",
              "    <tr style=\"text-align: right;\">\n",
              "      <th></th>\n",
              "      <th>year</th>\n",
              "      <th>AverageTemperature</th>\n",
              "      <th>AverageTemperatureUncertainty</th>\n",
              "      <th>Country</th>\n",
              "      <th>month</th>\n",
              "    </tr>\n",
              "  </thead>\n",
              "  <tbody>\n",
              "    <tr>\n",
              "      <th>0</th>\n",
              "      <td>1743</td>\n",
              "      <td>4.384</td>\n",
              "      <td>2.294</td>\n",
              "      <td>Åland</td>\n",
              "      <td>1743-11-01</td>\n",
              "    </tr>\n",
              "    <tr>\n",
              "      <th>1</th>\n",
              "      <td>1743</td>\n",
              "      <td>NaN</td>\n",
              "      <td>NaN</td>\n",
              "      <td>Åland</td>\n",
              "      <td>1743-12-01</td>\n",
              "    </tr>\n",
              "    <tr>\n",
              "      <th>2</th>\n",
              "      <td>1744</td>\n",
              "      <td>NaN</td>\n",
              "      <td>NaN</td>\n",
              "      <td>Åland</td>\n",
              "      <td>1744-01-01</td>\n",
              "    </tr>\n",
              "    <tr>\n",
              "      <th>3</th>\n",
              "      <td>1744</td>\n",
              "      <td>NaN</td>\n",
              "      <td>NaN</td>\n",
              "      <td>Åland</td>\n",
              "      <td>1744-02-01</td>\n",
              "    </tr>\n",
              "    <tr>\n",
              "      <th>4</th>\n",
              "      <td>1744</td>\n",
              "      <td>NaN</td>\n",
              "      <td>NaN</td>\n",
              "      <td>Åland</td>\n",
              "      <td>1744-03-01</td>\n",
              "    </tr>\n",
              "    <tr>\n",
              "      <th>...</th>\n",
              "      <td>...</td>\n",
              "      <td>...</td>\n",
              "      <td>...</td>\n",
              "      <td>...</td>\n",
              "      <td>...</td>\n",
              "    </tr>\n",
              "    <tr>\n",
              "      <th>577457</th>\n",
              "      <td>2013</td>\n",
              "      <td>19.059</td>\n",
              "      <td>1.022</td>\n",
              "      <td>Zimbabwe</td>\n",
              "      <td>2013-05-01</td>\n",
              "    </tr>\n",
              "    <tr>\n",
              "      <th>577458</th>\n",
              "      <td>2013</td>\n",
              "      <td>17.613</td>\n",
              "      <td>0.473</td>\n",
              "      <td>Zimbabwe</td>\n",
              "      <td>2013-06-01</td>\n",
              "    </tr>\n",
              "    <tr>\n",
              "      <th>577459</th>\n",
              "      <td>2013</td>\n",
              "      <td>17.000</td>\n",
              "      <td>0.453</td>\n",
              "      <td>Zimbabwe</td>\n",
              "      <td>2013-07-01</td>\n",
              "    </tr>\n",
              "    <tr>\n",
              "      <th>577460</th>\n",
              "      <td>2013</td>\n",
              "      <td>19.759</td>\n",
              "      <td>0.717</td>\n",
              "      <td>Zimbabwe</td>\n",
              "      <td>2013-08-01</td>\n",
              "    </tr>\n",
              "    <tr>\n",
              "      <th>577461</th>\n",
              "      <td>2013</td>\n",
              "      <td>NaN</td>\n",
              "      <td>NaN</td>\n",
              "      <td>Zimbabwe</td>\n",
              "      <td>2013-09-01</td>\n",
              "    </tr>\n",
              "  </tbody>\n",
              "</table>\n",
              "<p>577462 rows × 5 columns</p>\n",
              "</div>"
            ],
            "text/plain": [
              "        year  AverageTemperature  ...   Country       month\n",
              "0       1743               4.384  ...     Åland  1743-11-01\n",
              "1       1743                 NaN  ...     Åland  1743-12-01\n",
              "2       1744                 NaN  ...     Åland  1744-01-01\n",
              "3       1744                 NaN  ...     Åland  1744-02-01\n",
              "4       1744                 NaN  ...     Åland  1744-03-01\n",
              "...      ...                 ...  ...       ...         ...\n",
              "577457  2013              19.059  ...  Zimbabwe  2013-05-01\n",
              "577458  2013              17.613  ...  Zimbabwe  2013-06-01\n",
              "577459  2013              17.000  ...  Zimbabwe  2013-07-01\n",
              "577460  2013              19.759  ...  Zimbabwe  2013-08-01\n",
              "577461  2013                 NaN  ...  Zimbabwe  2013-09-01\n",
              "\n",
              "[577462 rows x 5 columns]"
            ]
          },
          "metadata": {},
          "execution_count": 81
        }
      ]
    },
    {
      "cell_type": "code",
      "metadata": {
        "id": "Uk1mrWWbltBI"
      },
      "source": [
        "data.dropna(axis=0, inplace=True)"
      ],
      "execution_count": null,
      "outputs": []
    },
    {
      "cell_type": "code",
      "metadata": {
        "colab": {
          "base_uri": "https://localhost:8080/"
        },
        "id": "ftjDeFComR_4",
        "outputId": "713e65e4-c002-46a0-d53f-60308ffea70a"
      },
      "source": [
        "data.groupby(data.year).AverageTemperature.mean()"
      ],
      "execution_count": null,
      "outputs": [
        {
          "output_type": "execute_result",
          "data": {
            "text/plain": [
              "year\n",
              "1743     5.184140\n",
              "1744     9.837898\n",
              "1745     1.387125\n",
              "1750     9.129353\n",
              "1751     9.167388\n",
              "          ...    \n",
              "2009    19.546385\n",
              "2010    19.629806\n",
              "2011    19.456040\n",
              "2012    19.468744\n",
              "2013    19.877007\n",
              "Name: AverageTemperature, Length: 267, dtype: float64"
            ]
          },
          "metadata": {},
          "execution_count": 86
        }
      ]
    },
    {
      "cell_type": "code",
      "metadata": {
        "colab": {
          "base_uri": "https://localhost:8080/"
        },
        "id": "ylIkZH_enXLk",
        "outputId": "b6cd0ce3-4a04-4b40-9471-791f2f484f3b"
      },
      "source": [
        "data.year['1747']"
      ],
      "execution_count": null,
      "outputs": [
        {
          "output_type": "execute_result",
          "data": {
            "text/plain": [
              "0         1743\n",
              "5         1744\n",
              "6         1744\n",
              "7         1744\n",
              "8         1744\n",
              "          ... \n",
              "577456    2013\n",
              "577457    2013\n",
              "577458    2013\n",
              "577459    2013\n",
              "577460    2013\n",
              "Name: year, Length: 544811, dtype: object"
            ]
          },
          "metadata": {},
          "execution_count": 93
        }
      ]
    },
    {
      "cell_type": "code",
      "metadata": {
        "id": "0ef4FWn2na0D"
      },
      "source": [
        "temp_country_globalavg_df = data"
      ],
      "execution_count": null,
      "outputs": []
    },
    {
      "cell_type": "code",
      "metadata": {
        "colab": {
          "base_uri": "https://localhost:8080/",
          "height": 424
        },
        "id": "upGxkcUGoAKb",
        "outputId": "9a4ffcde-60d1-459e-bd18-f1cb6e85277b"
      },
      "source": [
        "temp_country_globalavg_df.groupby(by=\"year\").AverageTemperature.mean().reset_index()"
      ],
      "execution_count": null,
      "outputs": [
        {
          "output_type": "execute_result",
          "data": {
            "text/html": [
              "<div>\n",
              "<style scoped>\n",
              "    .dataframe tbody tr th:only-of-type {\n",
              "        vertical-align: middle;\n",
              "    }\n",
              "\n",
              "    .dataframe tbody tr th {\n",
              "        vertical-align: top;\n",
              "    }\n",
              "\n",
              "    .dataframe thead th {\n",
              "        text-align: right;\n",
              "    }\n",
              "</style>\n",
              "<table border=\"1\" class=\"dataframe\">\n",
              "  <thead>\n",
              "    <tr style=\"text-align: right;\">\n",
              "      <th></th>\n",
              "      <th>year</th>\n",
              "      <th>AverageTemperature</th>\n",
              "    </tr>\n",
              "  </thead>\n",
              "  <tbody>\n",
              "    <tr>\n",
              "      <th>0</th>\n",
              "      <td>1743</td>\n",
              "      <td>5.184140</td>\n",
              "    </tr>\n",
              "    <tr>\n",
              "      <th>1</th>\n",
              "      <td>1744</td>\n",
              "      <td>9.837898</td>\n",
              "    </tr>\n",
              "    <tr>\n",
              "      <th>2</th>\n",
              "      <td>1745</td>\n",
              "      <td>1.387125</td>\n",
              "    </tr>\n",
              "    <tr>\n",
              "      <th>3</th>\n",
              "      <td>1750</td>\n",
              "      <td>9.129353</td>\n",
              "    </tr>\n",
              "    <tr>\n",
              "      <th>4</th>\n",
              "      <td>1751</td>\n",
              "      <td>9.167388</td>\n",
              "    </tr>\n",
              "    <tr>\n",
              "      <th>...</th>\n",
              "      <td>...</td>\n",
              "      <td>...</td>\n",
              "    </tr>\n",
              "    <tr>\n",
              "      <th>262</th>\n",
              "      <td>2009</td>\n",
              "      <td>19.546385</td>\n",
              "    </tr>\n",
              "    <tr>\n",
              "      <th>263</th>\n",
              "      <td>2010</td>\n",
              "      <td>19.629806</td>\n",
              "    </tr>\n",
              "    <tr>\n",
              "      <th>264</th>\n",
              "      <td>2011</td>\n",
              "      <td>19.456040</td>\n",
              "    </tr>\n",
              "    <tr>\n",
              "      <th>265</th>\n",
              "      <td>2012</td>\n",
              "      <td>19.468744</td>\n",
              "    </tr>\n",
              "    <tr>\n",
              "      <th>266</th>\n",
              "      <td>2013</td>\n",
              "      <td>19.877007</td>\n",
              "    </tr>\n",
              "  </tbody>\n",
              "</table>\n",
              "<p>267 rows × 2 columns</p>\n",
              "</div>"
            ],
            "text/plain": [
              "     year  AverageTemperature\n",
              "0    1743            5.184140\n",
              "1    1744            9.837898\n",
              "2    1745            1.387125\n",
              "3    1750            9.129353\n",
              "4    1751            9.167388\n",
              "..    ...                 ...\n",
              "262  2009           19.546385\n",
              "263  2010           19.629806\n",
              "264  2011           19.456040\n",
              "265  2012           19.468744\n",
              "266  2013           19.877007\n",
              "\n",
              "[267 rows x 2 columns]"
            ]
          },
          "metadata": {},
          "execution_count": 91
        }
      ]
    }
  ]
}